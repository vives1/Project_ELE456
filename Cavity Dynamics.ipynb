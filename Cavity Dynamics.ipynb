{
 "cells": [
  {
   "cell_type": "markdown",
   "metadata": {},
   "source": [
    "# Cavity Dynamics"
   ]
  },
  {
   "cell_type": "markdown",
   "metadata": {},
   "source": [
    "This notebook measures the cavity field as a function of time. The cavity is coupled to a transmon qubit. As such the cavity field is measured for the qubit in both the ground and excited states. The pi-pulse used to excite the qubit is obtained from the latest backend calibration. "
   ]
  },
  {
   "cell_type": "markdown",
   "metadata": {},
   "source": [
    "## 1. Preliminaries"
   ]
  },
  {
   "cell_type": "markdown",
   "metadata": {},
   "source": [
    "Connect to the IBM Quantum Experience. "
   ]
  },
  {
   "cell_type": "code",
   "execution_count": 1,
   "metadata": {},
   "outputs": [
    {
     "data": {
      "text/plain": [
       "{'qiskit-terra': '0.14.1',\n",
       " 'qiskit-aer': '0.5.1',\n",
       " 'qiskit-ignis': '0.3.0',\n",
       " 'qiskit-ibmq-provider': '0.7.0',\n",
       " 'qiskit-aqua': '0.7.0',\n",
       " 'qiskit': '0.19.1'}"
      ]
     },
     "execution_count": 1,
     "metadata": {},
     "output_type": "execute_result"
    }
   ],
   "source": [
    "from qiskit.tools.jupyter import *\n",
    "from qiskit import IBMQ\n",
    "\n",
    "import numpy as np\n",
    "import matplotlib.pyplot as plt\n",
    "\n",
    "# do this so that when call backend, will look nice, report properties\n",
    "\n",
    "%config InlineBackend.figure_format = 'svg' # Makes the images look nice\n",
    "\n",
    "IBMQ.load_account()\n",
    "provider = IBMQ.get_provider(hub='ibm-q', group='open', project='main')\n",
    "backend = provider.get_backend('ibmq_armonk')\n",
    "\n",
    "backend_config = backend.configuration()\n",
    "assert backend_config.open_pulse, \"Backend doesn't support OpenPulse\"\n",
    "\n",
    "# check qiskit version\n",
    "import qiskit\n",
    "qiskit.__qiskit_version__"
   ]
  },
  {
   "cell_type": "markdown",
   "metadata": {},
   "source": [
    "Get the parameters for the specific qubit"
   ]
  },
  {
   "cell_type": "code",
   "execution_count": null,
   "metadata": {},
   "outputs": [],
   "source": [
    "# basic unit conversion factors and device properties\n",
    "\n",
    "# unit conversion factors -> all backend properties returned in SI (Hz, sec, etc)\n",
    "GHz = 1.0e9 # Gigahertz\n",
    "MHz = 1.0e6 # Megahertz\n",
    "us = 1.0e-6 # Microseconds\n",
    "ns = 1.0e-9 # Nanoseconds\n",
    "scale_factor = 1e-14 # scale factor to remove factors of 10 from the data\n",
    "\n",
    "# basic parameters\n",
    "qubit = 0 # there is only one qubit\n",
    "dt = backend_config.dt\n",
    "#defaults\n",
    "backend_defaults = backend.defaults()\n",
    "\n",
    "# drive parameters\n",
    "[[min_drive_freq, max_drive_freq]] = backend_config.qubit_lo_range # range of freqs for qubit drive, 1Ghz around wq\n",
    "[[min_meas_freq, max_meas_freq]] = backend_config.meas_lo_range # range of freqs for measurement drive\n",
    "\n",
    "# cavity parameters\n",
    "cavity_freq = backend_defaults.meas_freq_est[qubit]\n",
    "\n",
    "# qubit parameters\n",
    "qubit_props_dict = backend.properties().qubit_property(0)\n",
    "qubit_freq = qubit_props_dict['frequency'][0]\n",
    "# qubit_freq = backend_defaults.qubit_freq_est[qubit] #same result\n",
    "qubit_T1 = qubit_props_dict['T1'][0]\n",
    "qubit_T2 = qubit_props_dict['T2'][0]\n",
    "\n",
    "print(f\"sampling time: {dt / ns : .2f} ns.\")\n",
    "print(f\"qubit frequency: {qubit_freq / GHz} GHz.\")\n",
    "print(f\"qubit decay: {1 /(qubit_T1* GHz)} GHz.\")\n",
    "print(f\"cavity frequency: {cavity_freq / GHz} GHz.\")\n",
    "\n",
    "print(f\"qubit T1: {qubit_T1/us} us.\")"
   ]
  },
  {
   "cell_type": "code",
   "execution_count": null,
   "metadata": {},
   "outputs": [],
   "source": [
    "# defaults and other parameters used to define control pulses\n",
    "from qiskit import pulse\n",
    "from qiskit.pulse import pulse_lib\n",
    "from qiskit.pulse import Play # comment out if qiskit-terra vesrion less than 0.13.0\n",
    "\n",
    "# samples need to be multiples of 16\n",
    "def get_closest_multiple_of_16(num):\n",
    "    return int(num + 8 ) - (int(num + 8 ) % 16)\n",
    "\n",
    "\n",
    "# Find out which group of qubits need to be acquired with this qubit\n",
    "meas_map_idx = None\n",
    "for i, measure_group in enumerate(backend_config.meas_map):\n",
    "    if qubit in measure_group:\n",
    "        meas_map_idx = i\n",
    "        break\n",
    "assert meas_map_idx is not None, f\"Couldn't find qubit {qubit} in the meas_map!\"\n",
    "print(f\"Qubit in measurement group {meas_map_idx}\")\n",
    "qubit_meas_group = backend_config.meas_map[meas_map_idx]\n",
    "\n",
    "#default instructions\n",
    "inst_sched_map = backend_defaults.instruction_schedule_map #default pulses so dont have to construct by hand\n",
    "\n",
    "drive_chan = pulse.DriveChannel(qubit)\n",
    "meas_chan = pulse.MeasureChannel(qubit)\n",
    "acq_chan = pulse.AcquireChannel(qubit)"
   ]
  },
  {
   "cell_type": "markdown",
   "metadata": {},
   "source": [
    "## 2. Pulse Schedule\n",
    "- (Optional) Add a pi-pulse to excite the qubit\n",
    "- Apply a very short measurement pulse and turn on acquisition channel.\n",
    "- The duration for when the measurement pulse is switched on is varied.\n",
    "- The acquisition channel is turned on directly after the measurement tone ends.\n",
    "- This allows us to measure the cavity field operator at various times. \n",
    "- The acquisition pulse is of the same amplitude as the measurement pulse.\n",
    "- There are two sets of schedules, one where the qubit is initially prepared in the excited state via the pi-pulse (derived from the backend), and one where the qubit remains in the ground state."
   ]
  },
  {
   "cell_type": "code",
   "execution_count": null,
   "metadata": {},
   "outputs": [],
   "source": [
    "# acqSamples_us         : Duration of the acquisition window, in us\n",
    "# cavityPumpDuration_us : List of times delays (in us) between the start of the measurement and when the cavity field is acquired.\n",
    "# measAmp               : Strength of the measurement drive\n",
    "# measSigma_us          : Width of the Gaussian part of the measurement Pulse, in us\n",
    "# measRiseFall_us       : Rise and fall time of the Gaussian part of the measurement Pulse, in us\n",
    "def generateSchedules(acqSamples_us, cavityPumpDuration_us, measAmp, measSigma_us, measRiseFall_us):\n",
    "        \n",
    "    # convert all the above durations into samples (in units of dt)\n",
    "    # then quantize the samples to the closest multiple of 16\n",
    "    cavityPumpSamples = [get_closest_multiple_of_16(cavityPumpTime_us * us/dt) for cavityPumpTime_us in cavityPumpDuration_us]\n",
    "    acqSamples = get_closest_multiple_of_16(acqSamples_us * us/dt)\n",
    "    measSigma = get_closest_multiple_of_16(measSigma_us * us/dt)       \n",
    "    measRiseFall = get_closest_multiple_of_16(measRiseFall_us * us/dt) \n",
    "\n",
    "    # get the Pi-pulse from the backend; the pulse already has a channel associated with it\n",
    "    pi_pulse = inst_sched_map.get('x', qubit_meas_group)\n",
    "    \n",
    "    ######################## Acquisiton portion of schedule ########################\n",
    "    meas_pulse = pulse_lib.gaussian_square(duration=acqSamples, \n",
    "                                   sigma=measSigma,\n",
    "                                   amp=measAmp,\n",
    "                                   risefall=measRiseFall,\n",
    "                                   name='measurement_pulse')\n",
    "    # apply meas_pulse to measurement channel\n",
    "    measure_schedule = Play(meas_pulse, meas_chan) \n",
    "    # this acquire object is how add variable duration acquisition windows turns on acquisition channel\n",
    "    measure_schedule += pulse.Acquire(duration=acqSamples, \n",
    "                                      channel=[pulse.AcquireChannel(i) for i in qubit_meas_group],\n",
    "                                      mem_slot=[pulse.MemorySlot(i) for i in qubit_meas_group])\n",
    "\n",
    "    ################ Make the schedule for ground-state preparation ################\n",
    "    schedules_gnd = []\n",
    "    \n",
    "    # iterate through each cavity pump duration\n",
    "    for cavityPumpSample in cavityPumpSamples: \n",
    "        # create an empty schedule\n",
    "        schedule = pulse.Schedule(name=f\"|g> readout dynamics t={cavityPumpSample * dt/us} us\")\n",
    "        \n",
    "        # construct a measurement pulse with duration cavityPumpSample\n",
    "        cavity_pulse = pulse_lib.gaussian_square(duration=cavityPumpSample,\n",
    "                                   sigma=measSigma,\n",
    "                                   amp=measAmp,\n",
    "                                   risefall=measRiseFall,\n",
    "                                   name='cavity_pump_pulse')\n",
    "        \n",
    "        # apply the measurement pulse to the measurement channel\n",
    "        schedule += Play(cavity_pulse, meas_chan)\n",
    "        \n",
    "        # add the acquisition schedule (as defined above) immediately after the the measurement tone\n",
    "        schedule += measure_schedule\n",
    "        \n",
    "        # append to the list of schedules for the ground state\n",
    "        schedules_gnd.append(schedule)\n",
    "\n",
    "\n",
    "    ############### Make the schedule for excited-state preparation ###############    \n",
    "    schedules_exc = []\n",
    "    \n",
    "    # iterate through each cavity pump duration\n",
    "    for cavityPumpSample in cavityPumpSamples: \n",
    "        # create an empty schedule\n",
    "        schedule = pulse.Schedule(name=f\"|e> readout dynamics t={cavityPumpSample * dt/us} us\")\n",
    "        \n",
    "        # add the pi-pulse\n",
    "        schedule += pi_pulse\n",
    "        \n",
    "        # construct a measurement pulse with duration cavityPumpSample\n",
    "        cavity_pulse = pulse_lib.gaussian_square(duration=cavityPumpSample,\n",
    "                                   sigma=measSigma,\n",
    "                                   amp=measAmp,\n",
    "                                   risefall=measRiseFall,\n",
    "                                   name='cavity_pump_pulse')\n",
    "        \n",
    "        # apply the measurement pulse to the measurement channel; delay this to after the pi-pulse is completed\n",
    "        schedule += Play(cavity_pulse, meas_chan) << schedule.duration\n",
    "        \n",
    "        # add the acquisition schedule (as defined above) immediately after the the measurement tone\n",
    "        schedule += measure_schedule\n",
    "        \n",
    "        # append to the list of schedules for the excited state\n",
    "        schedules_exc.append(schedule)\n",
    "    \n",
    "    \n",
    "    return (schedules_gnd, schedules_exc)"
   ]
  },
  {
   "cell_type": "markdown",
   "metadata": {},
   "source": [
    "### Assemble and Run the Job"
   ]
  },
  {
   "cell_type": "code",
   "execution_count": null,
   "metadata": {},
   "outputs": [],
   "source": [
    "from qiskit import assemble\n",
    "from qiskit.tools.monitor import job_monitor\n",
    "\n",
    "\n",
    "# driveFreq      : Frequency of the Driving (in Hz)\n",
    "# measFreq       : Frequency of the Measurement (in Hz)\n",
    "# numShotsPerFreq: Number of experiments per frequency\n",
    "# numShotsPerFreq: Number of experiments per frequency\n",
    "# schedules_gnd  : List of ground state schedules\n",
    "# schedules_exc  : List of excited state schedules\n",
    "def runJob(driveFreq, measFreq, numShotsPerFreq, schedules_gnd, schedules_exc):\n",
    "    # Match the frequencies to the channels\n",
    "    channel_freqs = {drive_chan: driveFreq, meas_chan: measFreq}\n",
    "    \n",
    "    # Assemble the jobs \n",
    "    acquire_sweep_program_gnd = assemble(schedules_gnd,\n",
    "                                        backend=backend, \n",
    "                                        meas_level=1,\n",
    "                                        meas_return='avg',\n",
    "                                        shots=numShotsPerFreq,\n",
    "                                        schedule_los=[channel_freqs] * len(schedules_gnd))\n",
    "    acquire_sweep_program_exc = assemble(schedules_exc,\n",
    "                                        backend=backend, \n",
    "                                        meas_level=1,\n",
    "                                        meas_return='avg',\n",
    "                                        shots=numShotsPerFreq,\n",
    "                                        schedule_los=[channel_freqs] * len(schedules_exc))\n",
    "\n",
    "    # Run the jobs\n",
    "    job_gnd = backend.run(acquire_sweep_program_gnd)\n",
    "    print('gnd sweep: ' + job_gnd.job_id())\n",
    "    \n",
    "    job_exc = backend.run(acquire_sweep_program_exc)\n",
    "    print('exc sweep: '+ job_exc.job_id())\n",
    "\n",
    "    return (job_gnd.job_id(), job_exc.job_id())"
   ]
  },
  {
   "cell_type": "markdown",
   "metadata": {},
   "source": [
    "## 3. Dynamics of the Cavity Field"
   ]
  },
  {
   "cell_type": "code",
   "execution_count": null,
   "metadata": {},
   "outputs": [],
   "source": [
    "def cavityDynamics(startTime_us, stopTime_us, timeStep_us, acqSamples_us, measAmp, measSigma_us, \n",
    "                   measRiseFall_us, driveFreq, measFreq, numShotsPerFreq):\n",
    "    \n",
    "    ########### insert code to automatically split\n",
    "    readout_values_gnd = []\n",
    "    readout_values_exc = []\n",
    "    \n",
    "    cavityPumpTimes_us = np.arange(startTime_us, stopTime_us, timeStep_us)\n",
    "    print(\"\\nRunning Cavity Dynamics from {0}us to {1}us, in steps of {2}us\".format(cavityPumpTimes_us[0], \n",
    "                                                                                    cavityPumpTimes_us[-1],\n",
    "                                                                                    timeStep_us))\n",
    "\n",
    "    (schedules_gnd, schedules_exc) = generateSchedules(acqSamples_us, cavityPumpTimes_us, \n",
    "                                                      measAmp, measSigma_us, measRiseFall_us)\n",
    "    (gndId, excId) = runJob(driveFreq, measFreq, numShotsPerFreq, \n",
    "                            schedules_gnd, schedules_exc)\n",
    "\n",
    "    job_gnd = backend.retrieve_job(gndId)\n",
    "    job_exc = backend.retrieve_job(excId)\n",
    "\n",
    "    print(\"Monitoring the Ground Sweep: \")\n",
    "    job_monitor(job_gnd)\n",
    "\n",
    "    print(\"\\nMonitoring the Excited Sweep: \")\n",
    "    job_monitor(job_exc)\n",
    "\n",
    "    print()\n",
    "\n",
    "    print(\"Errors for the Ground Sweep: {0}\".format(job_gnd.error_message()))\n",
    "    print(\"Errors for the Excited Sweep: {0}\".format(job_exc.error_message()))\n",
    "\n",
    "    # timeout parameter set to 120 seconds\n",
    "    acquire_sweep_gnd_results = job_gnd.result(timeout=120) \n",
    "    acquire_sweep_exc_results = job_exc.result(timeout=120)\n",
    "\n",
    "    # load complex measurement results, scale\n",
    "    for i in range(len(cavityPumpTimes_us)):\n",
    "        readout_values_gnd.append(acquire_sweep_gnd_results.get_memory(i)[qubit]*scale_factor)\n",
    "\n",
    "    for i in range(len(cavityPumpTimes_us)):\n",
    "        readout_values_exc.append(acquire_sweep_exc_results.get_memory(i)[qubit]*scale_factor)\n",
    "    \n",
    "    return (readout_values_gnd, readout_values_exc)"
   ]
  },
  {
   "cell_type": "markdown",
   "metadata": {},
   "source": [
    "Define the device-specific parameters"
   ]
  },
  {
   "cell_type": "code",
   "execution_count": null,
   "metadata": {},
   "outputs": [],
   "source": [
    "chi = 0.421 * MHz\n",
    "measFreq = cavity_freq\n",
    "driveFreq = qubit_freq - chi"
   ]
  },
  {
   "cell_type": "markdown",
   "metadata": {},
   "source": [
    "Qiskit limits the number of points per job. For shorter times, we can measure the cavity field for a wide window (for example, $0.1 \\mu s$ to $3.2 \\mu s$). However, the number of points increases with long times, as such we can pack fewer experiments into each job. As such, the width of the time-window shrinks with time. \n",
    "\n",
    "The homodyne measurement of the cavity field introduces a spurious phase shift for every job run. As such, we need at least one point to overlap between consecutive time windows. We use this overlap point to rotate the IQ plane of the latter measurement to match the previous measurement. \n",
    "\n",
    "The shrinking time-window and the need for an overlap point sets an upper bound to the longest time we can measure up to. This is because, there comes a point after which the time-windows can't accomodate both the overlap point and new measurement points. "
   ]
  },
  {
   "cell_type": "code",
   "execution_count": null,
   "metadata": {
    "scrolled": true
   },
   "outputs": [],
   "source": [
    "readout_values_gnd = []\n",
    "readout_values_exc = []\n",
    "\n",
    "# A list of the start and stop time pairs for each measurement window\n",
    "cavityPumpStartStop_us = [ [0.1, 3.2], [3.1, 4.5], [4.4, 5.5], [5.4, 6.0], [5.9, 6.8], [6.7, 7.5], [7.4, 8.1], \n",
    "                           [8.0, 8.6], [8.5, 9.1], [9.0, 9.6], [9.5, 10.0], [9.9, 10.4], [10.3, 10.7], [10.6, 11.0],\n",
    "                           [11.0, 11.5], [11.4, 11.7], [11.6, 11.9], [11.9, 12.2] , [12.1, 12.4], [12.4, 12.7], \n",
    "                           [12.6, 12.9], [12.9, 13.2], [13.1, 13.4], [13.4, 13.7], [13.6, 13.9], [13.9, 14.2], \n",
    "                           [14.1, 14.4], [14.4, 14.7]]\n",
    "\n",
    "idx = 0\n",
    "for [startTime, stopTime] in cavityPumpStartStop_us:\n",
    "    \n",
    "    # run the job for the assigned window\n",
    "    (readout_values_gnd_curr, readout_values_exc_curr) = cavityDynamics(startTime_us = startTime, stopTime_us = stopTime, \n",
    "                                                                        timeStep_us = 0.1, acqSamples_us = 0.05, \n",
    "                                                                        measAmp = 0.5, measSigma_us = 0.01, \n",
    "                                                                        measRiseFall_us = 0.001, driveFreq = driveFreq, \n",
    "                                                                        measFreq = measFreq, numShotsPerFreq = 1024)\n",
    "    \n",
    "    # rotate the measured values to correct for the phase shift from the homodyne measurement\n",
    "    # multiply with a phasor; get this phasor based on the points that overlaps between consecutive windows\n",
    "    if (idx > 0):\n",
    "        rot_phasor_gnd = readout_values_gnd[-1]/readout_values_gnd_curr[0]\n",
    "        readout_values_gnd += [ rot_phasor_gnd * val for val in  readout_values_gnd_curr[1:]]\n",
    "\n",
    "        rot_phasor_exc = readout_values_exc[-1]/readout_values_exc_curr[0]\n",
    "        readout_values_exc += [ rot_phasor_exc * val for val in  readout_values_exc_curr[1:]]\n",
    "    \n",
    "    else:\n",
    "        readout_values_gnd = readout_values_gnd_curr\n",
    "        readout_values_exc = readout_values_exc_curr\n",
    "        \n",
    "    # keep count    \n",
    "    idx += 1"
   ]
  },
  {
   "cell_type": "markdown",
   "metadata": {},
   "source": [
    "Rotate the entire plane such that the ground state measurement is entirely in the Q quadrature."
   ]
  },
  {
   "cell_type": "code",
   "execution_count": null,
   "metadata": {},
   "outputs": [],
   "source": [
    "rot_phasor = np.average(readout_values_gnd)/np.absolute(np.average(readout_values_gnd))\n",
    "rot_phasor = np.conj(rot_phasor)\n",
    "\n",
    "readout_values_gnd_rot =  [rot_phasor * val for val in  readout_values_gnd]\n",
    "readout_values_exc_rot =  [rot_phasor * val for val in  readout_values_exc]"
   ]
  },
  {
   "cell_type": "code",
   "execution_count": null,
   "metadata": {
    "scrolled": false
   },
   "outputs": [],
   "source": [
    "measAmp = 0.5\n",
    "duration_us = np.arange(0.1, 14.7, 0.1)\n",
    "   \n",
    "# plot results in figure\n",
    "fig =plt.figure(figsize=(8,5))\n",
    "fig.suptitle(f\"Dispersive single-qubit readout dynamics - Rotated, $\\epsilon_m$ = {measAmp}, $\\omega_d = {driveFreq/GHz}$ GHz, $\\omega_m = {measFreq/GHz} GHz$\")\n",
    "ax_real=fig.add_axes([.1, .2, .4, .7])\n",
    "ax_imag=fig.add_axes([.6, .2, .4, .7])\n",
    "\n",
    "ax_real.plot(duration_us, np.real(readout_values_gnd_rot), '-ob')\n",
    "ax_real.plot(duration_us, np.real(readout_values_exc_rot), '-or')\n",
    "\n",
    "ax_imag.plot(duration_us, np.absolute(np.imag(readout_values_gnd_rot)), '-ob')\n",
    "ax_imag.plot(duration_us, np.absolute(np.imag(readout_values_exc_rot)), '-or')\n",
    "\n",
    "ax_real.set_xlabel('Measurement time after $\\pi$ pulse [$\\mu$s]')\n",
    "ax_imag.set_xlabel('Measurement time after $\\pi$ pulse [$\\mu$s]')\n",
    "ax_real.set_ylabel('Measured Q [a.u.]')\n",
    "ax_imag.set_ylabel('Measured I [a.u.]')\n",
    "ax_real.legend(['$\\\\vert g\\\\rangle$', '$\\\\vert e\\\\rangle$'])"
   ]
  },
  {
   "cell_type": "markdown",
   "metadata": {},
   "source": [
    "## 4. Save the Data"
   ]
  },
  {
   "cell_type": "code",
   "execution_count": null,
   "metadata": {},
   "outputs": [],
   "source": [
    "import csv\n",
    "import sys\n",
    "\n",
    "fname = \"measAmp{:0.2f}_driveFreq{:0.2f}GHz_measFreq{:0.2f}GHz.csv\".format(measAmp, driveFreq/GHz, measFreq/GHz)\n",
    "with open(fname, mode='w', newline='') as file:\n",
    "    writer = csv.writer(file, delimiter=',', quotechar='\"', quoting=csv.QUOTE_MINIMAL)\n",
    "\n",
    "    writer.writerow(['time(us)', 'GND_I', 'GND_Q', 'EXC_I', 'EXC_Q', 'GND_rot_I', 'GND_rot_Q', 'EXC_rot_I', 'EXC_rot_Q'])\n",
    "     \n",
    "    times = np.arange(0.1, 5.0, 0.25)\n",
    "    for i in range(len(times)):\n",
    "        writer.writerow([times[i],\n",
    "                         np.real(readout_values_gnd_curr[i]), np.imag(readout_values_gnd_curr[i]),\n",
    "                         np.real(readout_values_exc_curr[i]), np.imag(readout_values_exc_curr[i]), \n",
    "                         np.real(readout_values_gnd_rot[i]), np.imag(readout_values_gnd_rot[i]), \n",
    "                         np.real(readout_values_exc_rot[i]), np.real(readout_values_exc_rot[i])])"
   ]
  }
 ],
 "metadata": {
  "kernelspec": {
   "display_name": "Python 3",
   "language": "python",
   "name": "python3"
  },
  "language_info": {
   "codemirror_mode": {
    "name": "ipython",
    "version": 3
   },
   "file_extension": ".py",
   "mimetype": "text/x-python",
   "name": "python",
   "nbconvert_exporter": "python",
   "pygments_lexer": "ipython3",
   "version": "3.6.5"
  }
 },
 "nbformat": 4,
 "nbformat_minor": 2
}
